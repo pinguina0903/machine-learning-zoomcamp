{
 "cells": [
  {
   "cell_type": "markdown",
   "id": "3e8f87d0-0331-4a49-ab87-06da1e13610d",
   "metadata": {},
   "source": [
    "# Machine Learning Zoomcamp, cohort 2024\n",
    "# HW4 / Arcangela Arnone Cohen"
   ]
  },
  {
   "cell_type": "markdown",
   "id": "8e076901-9510-4e10-a0a6-fe25018fd274",
   "metadata": {},
   "source": [
    "### Homework\n",
    "Note: sometimes your answer doesn't match one of the options exactly. That's fine. Select the option that's closest to your solution.\n",
    "\n",
    "In this homework, we will use the Bank Marketing dataset. Download it from here.\n",
    "\n",
    "You can do it with wget:\n",
    "\n",
    "wget https://archive.ics.uci.edu/static/public/222/bank+marketing.zip\n",
    "unzip bank+marketing.zip \n",
    "unzip bank.zip\n",
    "We need bank-full.csv.\n",
    "\n",
    "In this dataset the target variable is y variable - has the client subscribed a term deposit or not.\n",
    "\n",
    "### Dataset preparation\n",
    "For the rest of the homework, you'll need to use only these columns:\n",
    "\n",
    "* 'age',\n",
    "* 'job',\n",
    "* 'marital',\n",
    "* 'education',\n",
    "* 'balance',\n",
    "* 'housing',\n",
    "* 'contact',\n",
    "* 'day',\n",
    "* 'month',\n",
    "* 'duration',\n",
    "* 'campaign',\n",
    "* 'pdays',\n",
    "* 'previous',\n",
    "* 'poutcome',\n",
    "* 'y'\n",
    "\n",
    "Split the data into 3 parts: train/validation/test with 60%/20%/20% distribution. Use train_test_split function for that with random_state=1"
   ]
  },
  {
   "cell_type": "code",
   "execution_count": 1,
   "id": "d6cc8019-d70d-42de-b461-08f6684d7aba",
   "metadata": {},
   "outputs": [],
   "source": [
    "import numpy as np\n",
    "import pandas as pd"
   ]
  },
  {
   "cell_type": "code",
   "execution_count": 3,
   "id": "8489d1ca-e128-4a9a-9205-8bf41c482625",
   "metadata": {},
   "outputs": [],
   "source": [
    "import warnings\n",
    "warnings.filterwarnings(\"ignore\")"
   ]
  },
  {
   "cell_type": "code",
   "execution_count": 7,
   "id": "9de80ec4-39c9-4a1d-88ac-f2717e0cb76a",
   "metadata": {},
   "outputs": [
    {
     "data": {
      "text/plain": [
       "(45211, 17)"
      ]
     },
     "execution_count": 7,
     "metadata": {},
     "output_type": "execute_result"
    }
   ],
   "source": [
    "data = pd.read_csv('C:/Users/arcangelaac/Downloads/MACHINELZC/HW/Hw3_data/bank-full.csv',engine='python', sep=';')\n",
    "data.shape"
   ]
  },
  {
   "cell_type": "code",
   "execution_count": 68,
   "id": "8fd9d370-4812-46d3-ad29-862cbb574132",
   "metadata": {},
   "outputs": [
    {
     "data": {
      "text/html": [
       "<div>\n",
       "<style scoped>\n",
       "    .dataframe tbody tr th:only-of-type {\n",
       "        vertical-align: middle;\n",
       "    }\n",
       "\n",
       "    .dataframe tbody tr th {\n",
       "        vertical-align: top;\n",
       "    }\n",
       "\n",
       "    .dataframe thead th {\n",
       "        text-align: right;\n",
       "    }\n",
       "</style>\n",
       "<table border=\"1\" class=\"dataframe\">\n",
       "  <thead>\n",
       "    <tr style=\"text-align: right;\">\n",
       "      <th></th>\n",
       "      <th>age</th>\n",
       "      <th>job</th>\n",
       "      <th>marital</th>\n",
       "      <th>education</th>\n",
       "      <th>balance</th>\n",
       "      <th>housing</th>\n",
       "      <th>contact</th>\n",
       "      <th>day</th>\n",
       "      <th>month</th>\n",
       "      <th>duration</th>\n",
       "      <th>campaign</th>\n",
       "      <th>pdays</th>\n",
       "      <th>previous</th>\n",
       "      <th>poutcome</th>\n",
       "      <th>y</th>\n",
       "    </tr>\n",
       "  </thead>\n",
       "  <tbody>\n",
       "    <tr>\n",
       "      <th>0</th>\n",
       "      <td>58</td>\n",
       "      <td>management</td>\n",
       "      <td>married</td>\n",
       "      <td>tertiary</td>\n",
       "      <td>2143</td>\n",
       "      <td>yes</td>\n",
       "      <td>unknown</td>\n",
       "      <td>5</td>\n",
       "      <td>may</td>\n",
       "      <td>261</td>\n",
       "      <td>1</td>\n",
       "      <td>-1</td>\n",
       "      <td>0</td>\n",
       "      <td>unknown</td>\n",
       "      <td>no</td>\n",
       "    </tr>\n",
       "    <tr>\n",
       "      <th>1</th>\n",
       "      <td>44</td>\n",
       "      <td>technician</td>\n",
       "      <td>single</td>\n",
       "      <td>secondary</td>\n",
       "      <td>29</td>\n",
       "      <td>yes</td>\n",
       "      <td>unknown</td>\n",
       "      <td>5</td>\n",
       "      <td>may</td>\n",
       "      <td>151</td>\n",
       "      <td>1</td>\n",
       "      <td>-1</td>\n",
       "      <td>0</td>\n",
       "      <td>unknown</td>\n",
       "      <td>no</td>\n",
       "    </tr>\n",
       "    <tr>\n",
       "      <th>2</th>\n",
       "      <td>33</td>\n",
       "      <td>entrepreneur</td>\n",
       "      <td>married</td>\n",
       "      <td>secondary</td>\n",
       "      <td>2</td>\n",
       "      <td>yes</td>\n",
       "      <td>unknown</td>\n",
       "      <td>5</td>\n",
       "      <td>may</td>\n",
       "      <td>76</td>\n",
       "      <td>1</td>\n",
       "      <td>-1</td>\n",
       "      <td>0</td>\n",
       "      <td>unknown</td>\n",
       "      <td>no</td>\n",
       "    </tr>\n",
       "    <tr>\n",
       "      <th>3</th>\n",
       "      <td>47</td>\n",
       "      <td>blue-collar</td>\n",
       "      <td>married</td>\n",
       "      <td>unknown</td>\n",
       "      <td>1506</td>\n",
       "      <td>yes</td>\n",
       "      <td>unknown</td>\n",
       "      <td>5</td>\n",
       "      <td>may</td>\n",
       "      <td>92</td>\n",
       "      <td>1</td>\n",
       "      <td>-1</td>\n",
       "      <td>0</td>\n",
       "      <td>unknown</td>\n",
       "      <td>no</td>\n",
       "    </tr>\n",
       "    <tr>\n",
       "      <th>4</th>\n",
       "      <td>33</td>\n",
       "      <td>unknown</td>\n",
       "      <td>single</td>\n",
       "      <td>unknown</td>\n",
       "      <td>1</td>\n",
       "      <td>no</td>\n",
       "      <td>unknown</td>\n",
       "      <td>5</td>\n",
       "      <td>may</td>\n",
       "      <td>198</td>\n",
       "      <td>1</td>\n",
       "      <td>-1</td>\n",
       "      <td>0</td>\n",
       "      <td>unknown</td>\n",
       "      <td>no</td>\n",
       "    </tr>\n",
       "  </tbody>\n",
       "</table>\n",
       "</div>"
      ],
      "text/plain": [
       "   age           job  marital  education  balance housing  contact  day month  \\\n",
       "0   58    management  married   tertiary     2143     yes  unknown    5   may   \n",
       "1   44    technician   single  secondary       29     yes  unknown    5   may   \n",
       "2   33  entrepreneur  married  secondary        2     yes  unknown    5   may   \n",
       "3   47   blue-collar  married    unknown     1506     yes  unknown    5   may   \n",
       "4   33       unknown   single    unknown        1      no  unknown    5   may   \n",
       "\n",
       "   duration  campaign  pdays  previous poutcome   y  \n",
       "0       261         1     -1         0  unknown  no  \n",
       "1       151         1     -1         0  unknown  no  \n",
       "2        76         1     -1         0  unknown  no  \n",
       "3        92         1     -1         0  unknown  no  \n",
       "4       198         1     -1         0  unknown  no  "
      ]
     },
     "execution_count": 68,
     "metadata": {},
     "output_type": "execute_result"
    }
   ],
   "source": [
    "data.head()"
   ]
  },
  {
   "cell_type": "code",
   "execution_count": 70,
   "id": "7147fe84-b53f-4b7f-ae79-f93c5c481fb3",
   "metadata": {},
   "outputs": [],
   "source": [
    "data.y = (data.y == 'yes').astype(int)"
   ]
  },
  {
   "cell_type": "code",
   "execution_count": 72,
   "id": "d1c21ebd-357e-45a6-b708-7d55956ef94c",
   "metadata": {},
   "outputs": [
    {
     "data": {
      "text/html": [
       "<div>\n",
       "<style scoped>\n",
       "    .dataframe tbody tr th:only-of-type {\n",
       "        vertical-align: middle;\n",
       "    }\n",
       "\n",
       "    .dataframe tbody tr th {\n",
       "        vertical-align: top;\n",
       "    }\n",
       "\n",
       "    .dataframe thead th {\n",
       "        text-align: right;\n",
       "    }\n",
       "</style>\n",
       "<table border=\"1\" class=\"dataframe\">\n",
       "  <thead>\n",
       "    <tr style=\"text-align: right;\">\n",
       "      <th></th>\n",
       "      <th>age</th>\n",
       "      <th>job</th>\n",
       "      <th>marital</th>\n",
       "      <th>education</th>\n",
       "      <th>balance</th>\n",
       "      <th>housing</th>\n",
       "      <th>contact</th>\n",
       "      <th>day</th>\n",
       "      <th>month</th>\n",
       "      <th>duration</th>\n",
       "      <th>campaign</th>\n",
       "      <th>pdays</th>\n",
       "      <th>previous</th>\n",
       "      <th>poutcome</th>\n",
       "      <th>y</th>\n",
       "    </tr>\n",
       "  </thead>\n",
       "  <tbody>\n",
       "    <tr>\n",
       "      <th>0</th>\n",
       "      <td>58</td>\n",
       "      <td>management</td>\n",
       "      <td>married</td>\n",
       "      <td>tertiary</td>\n",
       "      <td>2143</td>\n",
       "      <td>yes</td>\n",
       "      <td>unknown</td>\n",
       "      <td>5</td>\n",
       "      <td>may</td>\n",
       "      <td>261</td>\n",
       "      <td>1</td>\n",
       "      <td>-1</td>\n",
       "      <td>0</td>\n",
       "      <td>unknown</td>\n",
       "      <td>0</td>\n",
       "    </tr>\n",
       "    <tr>\n",
       "      <th>1</th>\n",
       "      <td>44</td>\n",
       "      <td>technician</td>\n",
       "      <td>single</td>\n",
       "      <td>secondary</td>\n",
       "      <td>29</td>\n",
       "      <td>yes</td>\n",
       "      <td>unknown</td>\n",
       "      <td>5</td>\n",
       "      <td>may</td>\n",
       "      <td>151</td>\n",
       "      <td>1</td>\n",
       "      <td>-1</td>\n",
       "      <td>0</td>\n",
       "      <td>unknown</td>\n",
       "      <td>0</td>\n",
       "    </tr>\n",
       "    <tr>\n",
       "      <th>2</th>\n",
       "      <td>33</td>\n",
       "      <td>entrepreneur</td>\n",
       "      <td>married</td>\n",
       "      <td>secondary</td>\n",
       "      <td>2</td>\n",
       "      <td>yes</td>\n",
       "      <td>unknown</td>\n",
       "      <td>5</td>\n",
       "      <td>may</td>\n",
       "      <td>76</td>\n",
       "      <td>1</td>\n",
       "      <td>-1</td>\n",
       "      <td>0</td>\n",
       "      <td>unknown</td>\n",
       "      <td>0</td>\n",
       "    </tr>\n",
       "    <tr>\n",
       "      <th>3</th>\n",
       "      <td>47</td>\n",
       "      <td>blue-collar</td>\n",
       "      <td>married</td>\n",
       "      <td>unknown</td>\n",
       "      <td>1506</td>\n",
       "      <td>yes</td>\n",
       "      <td>unknown</td>\n",
       "      <td>5</td>\n",
       "      <td>may</td>\n",
       "      <td>92</td>\n",
       "      <td>1</td>\n",
       "      <td>-1</td>\n",
       "      <td>0</td>\n",
       "      <td>unknown</td>\n",
       "      <td>0</td>\n",
       "    </tr>\n",
       "    <tr>\n",
       "      <th>4</th>\n",
       "      <td>33</td>\n",
       "      <td>unknown</td>\n",
       "      <td>single</td>\n",
       "      <td>unknown</td>\n",
       "      <td>1</td>\n",
       "      <td>no</td>\n",
       "      <td>unknown</td>\n",
       "      <td>5</td>\n",
       "      <td>may</td>\n",
       "      <td>198</td>\n",
       "      <td>1</td>\n",
       "      <td>-1</td>\n",
       "      <td>0</td>\n",
       "      <td>unknown</td>\n",
       "      <td>0</td>\n",
       "    </tr>\n",
       "  </tbody>\n",
       "</table>\n",
       "</div>"
      ],
      "text/plain": [
       "   age           job  marital  education  balance housing  contact  day month  \\\n",
       "0   58    management  married   tertiary     2143     yes  unknown    5   may   \n",
       "1   44    technician   single  secondary       29     yes  unknown    5   may   \n",
       "2   33  entrepreneur  married  secondary        2     yes  unknown    5   may   \n",
       "3   47   blue-collar  married    unknown     1506     yes  unknown    5   may   \n",
       "4   33       unknown   single    unknown        1      no  unknown    5   may   \n",
       "\n",
       "   duration  campaign  pdays  previous poutcome  y  \n",
       "0       261         1     -1         0  unknown  0  \n",
       "1       151         1     -1         0  unknown  0  \n",
       "2        76         1     -1         0  unknown  0  \n",
       "3        92         1     -1         0  unknown  0  \n",
       "4       198         1     -1         0  unknown  0  "
      ]
     },
     "execution_count": 72,
     "metadata": {},
     "output_type": "execute_result"
    }
   ],
   "source": [
    "data.head()"
   ]
  },
  {
   "cell_type": "code",
   "execution_count": null,
   "id": "d635ee1e-7c9d-4c4a-ab88-00c4f0ad040f",
   "metadata": {},
   "outputs": [],
   "source": [
    "# selecting columns"
   ]
  },
  {
   "cell_type": "code",
   "execution_count": 76,
   "id": "36d14774-45e4-4779-b990-4d8574b2a854",
   "metadata": {},
   "outputs": [],
   "source": [
    "features = [\n",
    "    'age', 'job', 'marital', 'education', 'balance', 'housing', 'contact', \n",
    "    'day', 'month', 'duration', 'campaign', 'pdays', 'previous', 'poutcome', 'y'\n",
    "]"
   ]
  },
  {
   "cell_type": "code",
   "execution_count": 78,
   "id": "b66d5149-7f51-4659-bee0-ab83d3939daa",
   "metadata": {},
   "outputs": [],
   "source": [
    "data = data[features]"
   ]
  },
  {
   "cell_type": "code",
   "execution_count": null,
   "id": "c54aac6f-af1f-4ed9-8a6b-b84db2e723b1",
   "metadata": {},
   "outputs": [],
   "source": [
    "# prepare the split"
   ]
  },
  {
   "cell_type": "code",
   "execution_count": 15,
   "id": "11375c98-e74e-4f86-a73d-04e4380f66f7",
   "metadata": {},
   "outputs": [],
   "source": [
    "from sklearn.model_selection import train_test_split"
   ]
  },
  {
   "cell_type": "code",
   "execution_count": 80,
   "id": "d90cfe9a-ff1e-4f2d-a8f2-dad894021ee8",
   "metadata": {},
   "outputs": [],
   "source": [
    "data_full_train, data_test = train_test_split(data, test_size=0.2, random_state=1)\n",
    "data_train, data_val = train_test_split(data_full_train, test_size=0.25, random_state=1)"
   ]
  },
  {
   "cell_type": "code",
   "execution_count": 82,
   "id": "28256759-151b-4805-81b4-d8de2224bb26",
   "metadata": {},
   "outputs": [],
   "source": [
    "assert len(data) == (len(data_train) + len(data_val) + len(data_test))"
   ]
  },
  {
   "cell_type": "code",
   "execution_count": 84,
   "id": "ed3a0a16-681f-416c-94b1-2df9b1bb9ee2",
   "metadata": {},
   "outputs": [
    {
     "data": {
      "text/plain": [
       "(27126, 9042, 9043)"
      ]
     },
     "execution_count": 84,
     "metadata": {},
     "output_type": "execute_result"
    }
   ],
   "source": [
    "len(data_train), len(data_val), len(data_test)"
   ]
  },
  {
   "cell_type": "code",
   "execution_count": 86,
   "id": "0d2db0d0-dfa6-464a-b1fe-76712e965ba6",
   "metadata": {},
   "outputs": [],
   "source": [
    "y_train = data_train.y.values\n",
    "y_val = data_val.y.values\n",
    "y_test = data_test.y.values"
   ]
  },
  {
   "cell_type": "code",
   "execution_count": 88,
   "id": "3b1ab79f-b9af-4506-b101-1f6b5a713fc8",
   "metadata": {},
   "outputs": [],
   "source": [
    "data_train = data_train.drop('y', axis=1)\n",
    "data_val = data_val.drop('y', axis=1)\n",
    "data_test = data_test.drop('y', axis=1)\n",
    "\n",
    "assert 'y' not in data_train.columns\n",
    "assert 'y' not in data_val.columns\n",
    "assert 'y' not in data_test.columns"
   ]
  },
  {
   "cell_type": "markdown",
   "id": "c7617564-45c0-48ce-8a6f-a8a90ff7c106",
   "metadata": {},
   "source": [
    "## Question 1: ROC AUC feature importance\n",
    "ROC AUC could also be used to evaluate feature importance of numerical variables.\n",
    "\n",
    "Let's do that\n",
    "\n",
    "* For each numerical variable, use it as score (aka prediction) and compute the AUC with the y variable as ground truth.\n",
    "* Use the training dataset for that\n",
    "  \n",
    "If your AUC is < 0.5, invert this variable by putting \"-\" in front\n",
    "\n",
    "(e.g. -df_train['engine_hp'])\n",
    "\n",
    "AUC can go below 0.5 if the variable is negatively correlated with the target variable. You can change the direction of the correlation by negating this variable - then negative correlation becomes positive.\n",
    "\n",
    "Which numerical variable (among the following 4) has the highest AUC?\n",
    "\n",
    "* balance\n",
    "* day\n",
    "* duration\n",
    "* previous"
   ]
  },
  {
   "cell_type": "code",
   "execution_count": 90,
   "id": "40b2222a-6ae8-42d1-a139-fade678e8bab",
   "metadata": {},
   "outputs": [
    {
     "data": {
      "text/plain": [
       "age          0\n",
       "job          0\n",
       "marital      0\n",
       "education    0\n",
       "balance      0\n",
       "housing      0\n",
       "contact      0\n",
       "day          0\n",
       "month        0\n",
       "duration     0\n",
       "campaign     0\n",
       "pdays        0\n",
       "previous     0\n",
       "poutcome     0\n",
       "y            0\n",
       "dtype: int64"
      ]
     },
     "execution_count": 90,
     "metadata": {},
     "output_type": "execute_result"
    }
   ],
   "source": [
    "data.isna().sum()"
   ]
  },
  {
   "cell_type": "code",
   "execution_count": null,
   "id": "d1f5067b-a281-4270-a5c6-c18dffb91ff9",
   "metadata": {},
   "outputs": [],
   "source": [
    "# It's the same data that the previous week.  I'm not going to put in lowercase"
   ]
  },
  {
   "cell_type": "code",
   "execution_count": 92,
   "id": "42d6afb0-4874-4e90-856f-826c38b2fe5c",
   "metadata": {},
   "outputs": [],
   "source": [
    "numericalq1 = ['balance','day','duration','previous']"
   ]
  },
  {
   "cell_type": "code",
   "execution_count": 55,
   "id": "178773e8-892e-41c2-82d6-1221092a5e93",
   "metadata": {},
   "outputs": [],
   "source": [
    "from sklearn.metrics import roc_curve\n",
    "from sklearn.metrics import roc_auc_score\n",
    "from sklearn.metrics import auc \n",
    "import matplotlib.pyplot as plt"
   ]
  },
  {
   "cell_type": "code",
   "execution_count": null,
   "id": "702ffc90-bc96-4e14-af78-3175dab36305",
   "metadata": {},
   "outputs": [],
   "source": [
    "# roc_auc_score(y_val, y_pred)    y_val is the same, im this case data_train and y_pred should be each numerical value, feature. \n",
    "# if feature > t the y=1 and similar with the other case.  t= 0.5"
   ]
  },
  {
   "cell_type": "code",
   "execution_count": 96,
   "id": "8c7935ef-e5bc-47e9-b2a2-622cbd852f20",
   "metadata": {},
   "outputs": [
    {
     "data": {
      "text/plain": [
       "{'balance': 0.5888313805382317,\n",
       " 'day': 0.525957882383908,\n",
       " 'duration': 0.8147002759670778,\n",
       " 'previous': 0.5985653242764153}"
      ]
     },
     "execution_count": 96,
     "metadata": {},
     "output_type": "execute_result"
    }
   ],
   "source": [
    "scores = {}\n",
    "for col in numericalq1:\n",
    "    # ROC AUC score per 4 numerical feature\n",
    "    auc = roc_auc_score(y_train, data_train[col])\n",
    "    \n",
    "    # Check if AUC is < 0.5 -- revert if < 0.5\n",
    "    if auc < 0.5:\n",
    "        auc = roc_auc_score(y_train, -data_train[col])\n",
    "    \n",
    "    scores[col] = auc\n",
    "\n",
    "scores"
   ]
  },
  {
   "cell_type": "code",
   "execution_count": null,
   "id": "84f5c6dc-fedf-44d0-ad52-451e45095c88",
   "metadata": {},
   "outputs": [],
   "source": [
    "# My answer is duration"
   ]
  },
  {
   "cell_type": "markdown",
   "id": "2f5f0361-50a0-4d82-a209-a802f5764fff",
   "metadata": {},
   "source": [
    "## Question 2: Training the model\n",
    "Apply one-hot-encoding using DictVectorizer and train the logistic regression with these parameters:\n",
    "\n",
    "LogisticRegression(solver='liblinear', C=1.0, max_iter=1000)\n",
    "What's the AUC of this model on the validation dataset? (round to 3 digits)\n",
    "\n",
    "* 0.69\n",
    "* 0.79\n",
    "* 0.89\n",
    "* 0.99"
   ]
  },
  {
   "cell_type": "code",
   "execution_count": 63,
   "id": "55fc3eb1-23af-4b8f-86b7-11f445354fbc",
   "metadata": {},
   "outputs": [],
   "source": [
    "from sklearn.feature_extraction import DictVectorizer\n",
    "from sklearn.linear_model import LogisticRegression\n",
    "from sklearn.metrics import mutual_info_score, accuracy_score, mean_squared_error"
   ]
  },
  {
   "cell_type": "code",
   "execution_count": null,
   "id": "bd2d1450-bccb-40f4-9173-bb90c89cf00b",
   "metadata": {},
   "outputs": [],
   "source": [
    "# Updating \"numerical\" and \"categorical\" lists"
   ]
  },
  {
   "cell_type": "code",
   "execution_count": 98,
   "id": "7e8df7e1-0020-4752-a681-ed64fc29c005",
   "metadata": {},
   "outputs": [],
   "source": [
    "numerical = ['age', 'balance', 'day', 'duration', 'campaign', 'pdays', 'previous']"
   ]
  },
  {
   "cell_type": "code",
   "execution_count": 100,
   "id": "cadeaa73-dde7-427c-8f47-8ae141eb51c8",
   "metadata": {},
   "outputs": [],
   "source": [
    "categorical = ['job', 'marital', 'education', 'housing', 'contact', 'month', 'poutcome']"
   ]
  },
  {
   "cell_type": "code",
   "execution_count": 110,
   "id": "d722d9f5-dd83-4347-a23e-29cdcaea4b2a",
   "metadata": {},
   "outputs": [
    {
     "data": {
      "text/plain": [
       "['job', 'marital', 'education', 'housing', 'contact', 'month', 'poutcome']"
      ]
     },
     "execution_count": 110,
     "metadata": {},
     "output_type": "execute_result"
    }
   ],
   "source": [
    "list(data.dtypes[data.dtypes == 'object'].index)"
   ]
  },
  {
   "cell_type": "code",
   "execution_count": 112,
   "id": "6c3e0d79-e78a-4f0b-84a5-813e38638260",
   "metadata": {},
   "outputs": [
    {
     "data": {
      "text/plain": [
       "['age', 'balance', 'day', 'duration', 'campaign', 'pdays', 'previous', 'y']"
      ]
     },
     "execution_count": 112,
     "metadata": {},
     "output_type": "execute_result"
    }
   ],
   "source": [
    "list(data.dtypes[data.dtypes != 'object'].index)"
   ]
  },
  {
   "cell_type": "code",
   "execution_count": 114,
   "id": "ac2e63b2-09a0-4a01-8693-c6f05fc2ffa2",
   "metadata": {},
   "outputs": [
    {
     "name": "stdout",
     "output_type": "stream",
     "text": [
      " Q2 Answer:  0.900\n"
     ]
    }
   ],
   "source": [
    "dv = DictVectorizer(sparse=False)\n",
    "\n",
    "X_train = dv.fit_transform(data_train[categorical + numerical].to_dict(orient='records'))\n",
    "X_val = dv.transform(data_val.to_dict(orient='records'))\n",
    "X_test = dv.transform(data_test.to_dict(orient='records'))\n",
    "\n",
    "model = LogisticRegression(solver='liblinear', C=1.0, max_iter=1000)\n",
    "model.fit(X_train, y_train)\n",
    "\n",
    "y_pred = model.predict_proba(X_val)[:, 1]\n",
    "\n",
    "auc_score = roc_auc_score(y_val, y_pred)     #roc_auc_score(ytrue, yscore)\n",
    "\n",
    "print(f' Q2 Answer: {auc_score: .3f}')"
   ]
  },
  {
   "cell_type": "markdown",
   "id": "f6d88240-91f6-4f79-b608-4eacc894b541",
   "metadata": {},
   "source": [
    "## Question 3: Precision and Recall\n",
    "Now let's compute precision and recall for our model.\n",
    "\n",
    "* Evaluate the model on all thresholds from 0.0 to 1.0 with step 0.01\n",
    "* For each threshold, compute precision and recall\n",
    "* Plot them\n",
    "\n",
    "At which threshold precision and recall curves intersect?\n",
    "\n",
    "* 0.265\n",
    "* 0.465\n",
    "* 0.665\n",
    "* 0.865"
   ]
  },
  {
   "cell_type": "code",
   "execution_count": 135,
   "id": "8fe1c98b-afea-4cf9-a32c-6fe4362389bb",
   "metadata": {},
   "outputs": [],
   "source": [
    "from sklearn.metrics import precision_score, recall_score, f1_score"
   ]
  },
  {
   "cell_type": "code",
   "execution_count": 181,
   "id": "db3291cf-cdc1-45d9-84c7-2dc7c623d9d2",
   "metadata": {},
   "outputs": [],
   "source": [
    "scores = []\n",
    "\n",
    "thresholds = np.linspace(0, 1, 101)\n",
    "\n",
    "for t in thresholds:\n",
    "    actual_positive = (y_val == 1)\n",
    "    actual_negative = (y_val == 0)\n",
    "    \n",
    "    predict_positive = (y_pred >= t)\n",
    "    predict_negative = (y_pred < t)\n",
    "\n",
    "    tp = (predict_positive & actual_positive).sum()\n",
    "    tn = (predict_negative & actual_negative).sum()\n",
    "\n",
    "    fp = (predict_positive & actual_negative).sum()\n",
    "    fn = (predict_negative & actual_positive).sum()\n",
    "    \n",
    "    scores.append((t, tp, fp, fn, tn))"
   ]
  },
  {
   "cell_type": "code",
   "execution_count": 183,
   "id": "39cb5e10-b320-4dbe-aa01-79c6451b0bc8",
   "metadata": {},
   "outputs": [
    {
     "data": {
      "text/plain": [
       "[(0.0, 1098, 7944, 0, 0),\n",
       " (0.01, 1094, 6974, 4, 970),\n",
       " (0.02, 1093, 5768, 5, 2176),\n",
       " (0.03, 1087, 4727, 11, 3217),\n",
       " (0.04, 1065, 3800, 33, 4144),\n",
       " (0.05, 1047, 3086, 51, 4858),\n",
       " (0.06, 1021, 2519, 77, 5425),\n",
       " (0.07, 993, 2155, 105, 5789),\n",
       " (0.08, 972, 1864, 126, 6080),\n",
       " (0.09, 946, 1640, 152, 6304),\n",
       " (0.1, 926, 1494, 172, 6450),\n",
       " (0.11, 895, 1359, 203, 6585),\n",
       " (0.12, 860, 1215, 238, 6729),\n",
       " (0.13, 836, 1117, 262, 6827),\n",
       " (0.14, 814, 1039, 284, 6905),\n",
       " (0.15, 797, 972, 301, 6972),\n",
       " (0.16, 777, 898, 321, 7046),\n",
       " (0.17, 760, 841, 338, 7103),\n",
       " (0.18, 743, 781, 355, 7163),\n",
       " (0.19, 729, 731, 369, 7213),\n",
       " (0.2, 711, 691, 387, 7253),\n",
       " (0.21, 700, 652, 398, 7292),\n",
       " (0.22, 688, 615, 410, 7329),\n",
       " (0.23, 667, 574, 431, 7370),\n",
       " (0.24, 649, 549, 449, 7395),\n",
       " (0.25, 634, 515, 464, 7429),\n",
       " (0.26, 622, 495, 476, 7449),\n",
       " (0.27, 605, 472, 493, 7472),\n",
       " (0.28, 595, 450, 503, 7494),\n",
       " (0.29, 578, 435, 520, 7509),\n",
       " (0.3, 565, 412, 533, 7532),\n",
       " (0.31, 553, 394, 545, 7550),\n",
       " (0.32, 546, 378, 552, 7566),\n",
       " (0.33, 535, 360, 563, 7584),\n",
       " (0.34, 518, 346, 580, 7598),\n",
       " (0.35000000000000003, 510, 336, 588, 7608),\n",
       " (0.36, 501, 321, 597, 7623),\n",
       " (0.37, 494, 308, 604, 7636),\n",
       " (0.38, 483, 296, 615, 7648),\n",
       " (0.39, 472, 285, 626, 7659),\n",
       " (0.4, 459, 273, 639, 7671),\n",
       " (0.41000000000000003, 453, 263, 645, 7681),\n",
       " (0.42, 444, 253, 654, 7691),\n",
       " (0.43, 431, 245, 667, 7699),\n",
       " (0.44, 424, 241, 674, 7703),\n",
       " (0.45, 413, 233, 685, 7711),\n",
       " (0.46, 404, 226, 694, 7718),\n",
       " (0.47000000000000003, 395, 217, 703, 7727),\n",
       " (0.48, 388, 206, 710, 7738),\n",
       " (0.49, 380, 200, 718, 7744),\n",
       " (0.5, 371, 193, 727, 7751),\n",
       " (0.51, 362, 187, 736, 7757),\n",
       " (0.52, 354, 185, 744, 7759),\n",
       " (0.53, 350, 174, 748, 7770),\n",
       " (0.54, 338, 168, 760, 7776),\n",
       " (0.55, 327, 163, 771, 7781),\n",
       " (0.56, 318, 156, 780, 7788),\n",
       " (0.5700000000000001, 315, 151, 783, 7793),\n",
       " (0.58, 308, 147, 790, 7797),\n",
       " (0.59, 302, 141, 796, 7803),\n",
       " (0.6, 290, 137, 808, 7807),\n",
       " (0.61, 280, 128, 818, 7816),\n",
       " (0.62, 274, 122, 824, 7822),\n",
       " (0.63, 269, 118, 829, 7826),\n",
       " (0.64, 264, 115, 834, 7829),\n",
       " (0.65, 257, 114, 841, 7830),\n",
       " (0.66, 248, 112, 850, 7832),\n",
       " (0.67, 243, 110, 855, 7834),\n",
       " (0.68, 232, 108, 866, 7836),\n",
       " (0.6900000000000001, 229, 106, 869, 7838),\n",
       " (0.7000000000000001, 224, 102, 874, 7842),\n",
       " (0.71, 218, 100, 880, 7844),\n",
       " (0.72, 212, 95, 886, 7849),\n",
       " (0.73, 208, 89, 890, 7855),\n",
       " (0.74, 201, 85, 897, 7859),\n",
       " (0.75, 189, 82, 909, 7862),\n",
       " (0.76, 180, 79, 918, 7865),\n",
       " (0.77, 173, 73, 925, 7871),\n",
       " (0.78, 165, 73, 933, 7871),\n",
       " (0.79, 156, 72, 942, 7872),\n",
       " (0.8, 148, 69, 950, 7875),\n",
       " (0.81, 140, 63, 958, 7881),\n",
       " (0.8200000000000001, 133, 61, 965, 7883),\n",
       " (0.8300000000000001, 126, 56, 972, 7888),\n",
       " (0.84, 120, 50, 978, 7894),\n",
       " (0.85, 113, 47, 985, 7897),\n",
       " (0.86, 105, 45, 993, 7899),\n",
       " (0.87, 96, 40, 1002, 7904),\n",
       " (0.88, 89, 37, 1009, 7907),\n",
       " (0.89, 82, 32, 1016, 7912),\n",
       " (0.9, 77, 28, 1021, 7916),\n",
       " (0.91, 68, 26, 1030, 7918),\n",
       " (0.92, 60, 24, 1038, 7920),\n",
       " (0.93, 50, 22, 1048, 7922),\n",
       " (0.9400000000000001, 44, 21, 1054, 7923),\n",
       " (0.9500000000000001, 39, 19, 1059, 7925),\n",
       " (0.96, 30, 17, 1068, 7927),\n",
       " (0.97, 25, 15, 1073, 7929),\n",
       " (0.98, 22, 10, 1076, 7934),\n",
       " (0.99, 11, 5, 1087, 7939),\n",
       " (1.0, 0, 0, 1098, 7944)]"
      ]
     },
     "execution_count": 183,
     "metadata": {},
     "output_type": "execute_result"
    }
   ],
   "source": [
    "scores"
   ]
  },
  {
   "cell_type": "code",
   "execution_count": 188,
   "id": "391a666d-6db7-4ab9-a283-4524166e6c87",
   "metadata": {},
   "outputs": [
    {
     "data": {
      "image/png": "[encoded data removed]",
      "text/plain": [
       "<Figure size 700x700 with 1 Axes>"
      ]
     },
     "metadata": {},
     "output_type": "display_data"
    }
   ],
   "source": [
    "thresholds = np.arange(0, 1.01, 0.01)\n",
    "\n",
    "precisions = []\n",
    "recalls = []\n",
    "\n",
    "#    p = tp / (tp + fp)    and     r = tp / (tp + fn)\n",
    "\n",
    "for t in thresholds:\n",
    "    y_val_pred = (y_pred >= t).astype(int)\n",
    "    \n",
    "    precision = precision_score(y_val, y_val_pred)\n",
    "    recall = recall_score(y_val, y_val_pred)\n",
    "\n",
    "    precisions.append(precision)\n",
    "    recalls.append(recall)\n",
    "   \n",
    "# Plotting Precision and Recall\n",
    "plt.figure(figsize=(7,7))\n",
    "plt.plot(thresholds, precisions, label='Precision', color='blue')\n",
    "plt.plot(thresholds, recalls, label='Recall', color='green')\n",
    "plt.xlabel('Threshold')\n",
    "plt.ylabel('Score')\n",
    "plt.title('Precision & Recall')\n",
    "plt.grid(True)\n",
    "plt.legend()\n",
    "plt.show() "
   ]
  },
  {
   "cell_type": "code",
   "execution_count": null,
   "id": "1d1039f1-2021-4963-af46-ec54d97f350d",
   "metadata": {},
   "outputs": [],
   "source": [
    "# my answer is 0.265"
   ]
  },
  {
   "cell_type": "markdown",
   "id": "2998c660-186f-4779-9a42-b57e9e550ae0",
   "metadata": {},
   "source": [
    "## Question 4: F1 score\n",
    "Precision and recall are conflicting - when one grows, the other goes down. That's why they are often combined into the F1 score - a metrics that takes into account both\n",
    "\n",
    "This is the formula for computing F1:\n",
    "\n",
    "F1 = 2 ⋅ P ⋅ R /  P + R\n",
    "\n",
    "Where P  is precision and R   is recall.\n",
    "\n",
    "Let's compute F1 for all thresholds from 0.0 to 1.0 with increment 0.01\n",
    "\n",
    "At which threshold F1 is maximal?\n",
    "\n",
    "* 0.02\n",
    "* 0.22\n",
    "* 0.42\n",
    "* 0.62"
   ]
  },
  {
   "cell_type": "code",
   "execution_count": 202,
   "id": "3621bbe5-ea00-45a3-b536-3d0d89782387",
   "metadata": {},
   "outputs": [
    {
     "name": "stdout",
     "output_type": "stream",
     "text": [
      "0.22 0.22\n"
     ]
    }
   ],
   "source": [
    "thresholds = np.arange(0, 1.01, 0.01)\n",
    "\n",
    "f1s = {}\n",
    "f1_manuals = {}\n",
    "\n",
    "for t in thresholds:\n",
    "    y_val_pred = (y_pred >= t).astype(int)\n",
    "    \n",
    "    f1 = f1_score(y_val, y_val_pred)\n",
    "    f1s[t] = f1\n",
    "    \n",
    "    ## Manually\n",
    "    actual_positive = (y_val == 1)\n",
    "    actual_negative = (y_val == 0)\n",
    "    \n",
    "    predict_positive = (y_pred >= t)\n",
    "    predict_negative = (y_pred < t)\n",
    "    \n",
    "    tp = (predict_positive & actual_positive).sum()\n",
    "    tn = (predict_negative & actual_negative).sum()\n",
    "\n",
    "    fp = (predict_positive & actual_negative).sum()\n",
    "    fn = (predict_negative & actual_positive).sum()\n",
    "    \n",
    "    recall = (tp)/(tp+fn)\n",
    "    precision = (tp)/(tp+fp)\n",
    " \n",
    "    f1_m = 2*((precision*recall)/(precision+recall))\n",
    "    f1_manuals[t] = f1_m\n",
    "    \n",
    "max_manual = max(f1_manuals, key=f1_manuals.get)\n",
    "max_ = max(f1s, key=f1s.get)\n",
    "\n",
    "print(max_, max_manual)"
   ]
  },
  {
   "cell_type": "markdown",
   "id": "adfe6f4e-b558-44e5-9bef-a583f4dd0055",
   "metadata": {},
   "source": [
    "## Question 5: 5-Fold CV\n",
    "Use the KFold class from Scikit-Learn to evaluate our model on 5 different folds:\n",
    "\n",
    "KFold(n_splits=5, shuffle=True, random_state=1)\n",
    "\n",
    "* Iterate over different folds of df_full_train\n",
    "* Split the data into train and validation\n",
    "* Train the model on train with these parameters: LogisticRegression(solver='liblinear', C=1.0, max_iter=1000)\n",
    "* Use AUC to evaluate the model on validation\n",
    "\n",
    "How large is standard deviation of the scores across different folds?\n",
    "\n",
    "* 0.0001\n",
    "* 0.006\n",
    "* 0.06\n",
    "* 0.26"
   ]
  },
  {
   "cell_type": "code",
   "execution_count": 228,
   "id": "629bb256-6d14-4fde-974c-3ef612d29653",
   "metadata": {},
   "outputs": [
    {
     "name": "stdout",
     "output_type": "stream",
     "text": [
      "Standard Deviation of AUC Scores: 0.0053151357572693\n",
      "[0.8993883806356288, 0.8989055268937651, 0.9112102229960733, 0.9080952264469403, 0.9100912737695956]\n"
     ]
    }
   ],
   "source": [
    "from sklearn.model_selection import KFold\n",
    "\n",
    "# Define the number of splits and create a KFold object\n",
    "n_splits = 5\n",
    "kf = KFold(n_splits=n_splits, shuffle=True, random_state=1)\n",
    "\n",
    "# Initialize an empty list to store AUC scores for each fold\n",
    "auc_scores = []\n",
    "\n",
    "# Define the logistic regression model with the specified parameters\n",
    "model = LogisticRegression(solver='liblinear', C=1.0, max_iter=1000)\n",
    "\n",
    "# Iterate over different folds of data_full_train\n",
    "for train_index, val_index in kf.split(data_full_train):\n",
    "    # Split the data into train and validation sets for this fold\n",
    "    data_train_fold = data_full_train.iloc[train_index]\n",
    "    data_val_fold = data_full_train.iloc[val_index]\n",
    "\n",
    "    # Separate the target variable from the features\n",
    "    y_train_fold = data_train_fold.y.values\n",
    "    y_val_fold = data_val_fold.y.values\n",
    "\n",
    "    # Delete the target variable from the feature data\n",
    "    del data_train_fold['y']\n",
    "    del data_val_fold['y']\n",
    "\n",
    "    # Apply one-hot encoding to the categorical features (if not already done)\n",
    "    X_train_fold = dv.transform(data_train_fold.to_dict(orient='records'))\n",
    "    X_val_fold = dv.transform(data_val_fold.to_dict(orient='records'))\n",
    "\n",
    "    # Train the logistic regression model on the train data\n",
    "    model.fit(X_train_fold, y_train_fold)\n",
    "\n",
    "    # Predict probability scores on the validation data\n",
    "    y_val_prob_fold = model.predict_proba(X_val_fold)[:, 1]\n",
    "\n",
    "    # Calculate the ROC AUC score for this fold\n",
    "    auc_score_fold = roc_auc_score(y_val_fold, y_val_prob_fold)\n",
    "\n",
    "    # Append the AUC score to the list\n",
    "    auc_scores.append(auc_score_fold)\n",
    "\n",
    "# Calculate the standard deviation of AUC scores across different folds\n",
    "std_deviation = np.std(auc_scores)\n",
    "\n",
    "print(f\"Standard Deviation of AUC Scores: {std_deviation}\")\n",
    "print(auc_scores)\n"
   ]
  },
  {
   "cell_type": "code",
   "execution_count": 230,
   "id": "af85445c-e2f5-429a-80e2-591bc0a337bf",
   "metadata": {},
   "outputs": [
    {
     "name": "stdout",
     "output_type": "stream",
     "text": [
      "Standard Deviation of AUC Scores: 0.0053\n"
     ]
    }
   ],
   "source": [
    "\n",
    "# Define the number of splits and create a KFold object\n",
    "n_splits = 5\n",
    "kf = KFold(n_splits=n_splits, shuffle=True, random_state=1)\n",
    "\n",
    "# Initialize an empty list to store AUC scores for each fold\n",
    "auc_scores = []\n",
    "\n",
    "# Define the logistic regression model with the specified parameters\n",
    "model = LogisticRegression(solver='liblinear', C=1.0, max_iter=1000)\n",
    "\n",
    "# Iterate over different folds of data_full_train\n",
    "for train_index, val_index in kf.split(data_full_train):\n",
    "    # Split the data into train and validation sets for this fold\n",
    "    data_train_fold = data_full_train.iloc[train_index]\n",
    "    data_val_fold = data_full_train.iloc[val_index]\n",
    "\n",
    "    # Separate the target variable from the features\n",
    "    y_train_fold = data_train_fold.y.values\n",
    "    y_val_fold = data_val_fold.y.values\n",
    "\n",
    "    # Delete the target variable from the feature data\n",
    "    data_train_fold.drop(['y'], axis=1, inplace=True)\n",
    "    data_val_fold.drop(['y'], axis=1, inplace=True)\n",
    "\n",
    "    vectorizer = DictVectorizer(sparse=False)\n",
    "    # Apply one-hot encoding to the categorical features (if not already done)\n",
    "    X_train_fold = vectorizer.fit_transform(data_train_fold.to_dict(orient='records'))\n",
    "    X_val_fold = vectorizer.transform(data_val_fold.to_dict(orient='records'))\n",
    "\n",
    "    # Train the logistic regression model on the train data\n",
    "    model.fit(X_train_fold, y_train_fold)\n",
    "\n",
    "    # Predict probability scores on the validation data\n",
    "    y_val_prob_fold = model.predict_proba(X_val_fold)[:, 1]\n",
    "\n",
    "    # Calculate the ROC AUC score for this fold\n",
    "    auc_score_fold = roc_auc_score(y_val_fold, y_val_prob_fold)\n",
    "\n",
    "    # Append the AUC score to the list\n",
    "    auc_scores.append(auc_score_fold)\n",
    "\n",
    "# Calculate the standard deviation of AUC scores across different folds\n",
    "std_deviation = np.std(auc_scores)\n",
    "\n",
    "print(f\"Standard Deviation of AUC Scores: {std_deviation:.4f}\")"
   ]
  },
  {
   "cell_type": "code",
   "execution_count": null,
   "id": "db3df975-0fcb-462d-8ef3-eb6d03ab171f",
   "metadata": {},
   "outputs": [],
   "source": [
    "# my answer is 0.006"
   ]
  },
  {
   "cell_type": "markdown",
   "id": "0fd38a1a-a827-491c-8962-95815c0a2393",
   "metadata": {},
   "source": [
    "## Question 6: Hyperparameter Tuning\n",
    "Now let's use 5-Fold cross-validation to find the best parameter C\n",
    "\n",
    "* Iterate over the following C values: [0.000001, 0.001, 1]\n",
    "* Initialize KFold with the same parameters as previously\n",
    "* Use these parameters for the model: LogisticRegression(solver='liblinear', C=C, max_iter=1000)\n",
    "* Compute the mean score as well as the std (round the mean and std to 3 decimal digits)\n",
    "\n",
    "Which C leads to the best mean score?\n",
    "\n",
    "* 0.000001\n",
    "* 0.001\n",
    "* 1\n",
    "\n",
    "If you have ties, select the score with the lowest std. If you still have ties, select the smallest C."
   ]
  },
  {
   "cell_type": "code",
   "execution_count": 232,
   "id": "7360c4b1-ca5b-476d-9f57-625ab798f441",
   "metadata": {},
   "outputs": [
    {
     "name": "stdout",
     "output_type": "stream",
     "text": [
      "C=1e-06: Mean AUC = 0.701, Std AUC = 0.009\n",
      "C=0.001: Mean AUC = 0.861, Std AUC = 0.007\n",
      "C=1: Mean AUC = 0.906, Std AUC = 0.005\n"
     ]
    }
   ],
   "source": [
    "# Define the values of C to iterate over\n",
    "C_values = [0.000001, 0.001, 1]\n",
    "\n",
    "# Initialize KFold with the same parameters as previously\n",
    "n_splits = 5\n",
    "kf = KFold(n_splits=n_splits, shuffle=True, random_state=1)\n",
    "\n",
    "# Initialize dictionaries to store mean and std scores for each C\n",
    "mean_scores = {}\n",
    "std_scores = {}\n",
    "\n",
    "# Iterate over different C values\n",
    "for C in C_values:\n",
    "    # Initialize a list to store AUC scores for each fold\n",
    "    auc_scores = []\n",
    "\n",
    "    # Define the logistic regression model with the current C value\n",
    "    model = LogisticRegression(solver='liblinear', C=C, max_iter=1000)\n",
    "\n",
    "    # Iterate over different folds of data_full_train\n",
    "    for train_index, val_index in kf.split(data_full_train):\n",
    "        data_train_fold = data_full_train.iloc[train_index]\n",
    "        data_val_fold = data_full_train.iloc[val_index]\n",
    "\n",
    "        y_train_fold = data_train_fold.y.values\n",
    "        y_val_fold = data_val_fold.y.values\n",
    "\n",
    "        data_train_fold.drop(['y'], axis=1, inplace=True)\n",
    "        data_val_fold.drop(['y'], axis=1, inplace=True)\n",
    "\n",
    "        vectorizer = DictVectorizer(sparse=False)\n",
    "        X_train_fold = vectorizer.fit_transform(data_train_fold.to_dict(orient='records'))\n",
    "        X_val_fold = vectorizer.transform(data_val_fold.to_dict(orient='records'))\n",
    "\n",
    "        model.fit(X_train_fold, y_train_fold)\n",
    "\n",
    "        y_val_prob_fold = model.predict_proba(X_val_fold)[:, 1]\n",
    "\n",
    "        auc_score_fold = roc_auc_score(y_val_fold, y_val_prob_fold)\n",
    "        auc_scores.append(auc_score_fold)\n",
    "\n",
    "    # Calculate mean and std of AUC scores for the current C\n",
    "    mean_auc = np.mean(auc_scores)\n",
    "    std_auc = np.std(auc_scores)\n",
    "\n",
    "    # Store the mean and std scores in the dictionaries\n",
    "    mean_scores[C] = round(mean_auc, 3)\n",
    "    std_scores[C] = round(std_auc, 3)\n",
    "\n",
    "# Print the mean and std scores for each C value\n",
    "for C in C_values:\n",
    "    print(f\"C={C}: Mean AUC = {mean_scores[C]}, Std AUC = {std_scores[C]}\")"
   ]
  },
  {
   "cell_type": "code",
   "execution_count": null,
   "id": "bf595797-3d34-49ab-92f1-be78034d9f7d",
   "metadata": {},
   "outputs": [],
   "source": [
    "# My answer is C=1"
   ]
  },
  {
   "cell_type": "markdown",
   "id": "4deac0ac-c199-48c6-8c94-f2c6f8d195cf",
   "metadata": {},
   "source": [
    "### END"
   ]
  }
 ],
 "metadata": {
  "kernelspec": {
   "display_name": "Python 3 (ipykernel)",
   "language": "python",
   "name": "python3"
  },
  "language_info": {
   "codemirror_mode": {
    "name": "ipython",
    "version": 3
   },
   "file_extension": ".py",
   "mimetype": "text/x-python",
   "name": "python",
   "nbconvert_exporter": "python",
   "pygments_lexer": "ipython3",
   "version": "3.12.4"
  }
 },
 "nbformat": 4,
 "nbformat_minor": 5
}
